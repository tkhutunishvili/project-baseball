{
 "cells": [
  {
   "cell_type": "markdown",
   "metadata": {},
   "source": [
    "# getting each year of data together"
   ]
  },
  {
   "cell_type": "code",
   "execution_count": 3,
   "metadata": {},
   "outputs": [],
   "source": [
    "#Dependencies\n",
    "from pybaseball import pitching_stats_range\n",
    "from pybaseball import standings\n",
    "import pandas as pd\n",
    "import re"
   ]
  },
  {
   "cell_type": "markdown",
   "metadata": {},
   "source": [
    "# 2018"
   ]
  },
  {
   "cell_type": "code",
   "execution_count": 4,
   "metadata": {
    "scrolled": true
   },
   "outputs": [
    {
     "name": "stderr",
     "output_type": "stream",
     "text": [
      "/Users/nickrad/anaconda3/envs/PythonData/lib/python3.6/site-packages/ipykernel_launcher.py:12: SettingWithCopyWarning: \n",
      "A value is trying to be set on a copy of a slice from a DataFrame.\n",
      "Try using .loc[row_indexer,col_indexer] = value instead\n",
      "\n",
      "See the caveats in the documentation: http://pandas.pydata.org/pandas-docs/stable/indexing.html#indexing-view-versus-copy\n",
      "  if sys.path[0] == '':\n"
     ]
    }
   ],
   "source": [
    "pitching1 = pitching_stats_range('2018-03-29', '2018-10-04')\n",
    "pitching2018 = pd.DataFrame(pitching1)\n",
    "standings2018 = standings(2018)\n",
    "results2018 = pd.concat(standings2018)\n",
    "combined2018 = pitching2018.merge(results2018, on ='Tm',how = 'outer', suffixes=('_Pitcher', '_Season'))\n",
    "#trying to only look at the starting pitchers\n",
    "combined2018 = combined2018.query('GS >= 1')\n",
    "#going to select only the necessary columns\n",
    "data2018 = combined2018[['Name','Lev', 'Tm','GS','W_Season','L_Season','IP','ER','ERA','W_Pitcher','L_Pitcher']]\n",
    "#creating a unique ID\n",
    "re.search(\"(?<=\\-).+\",\"MLB-AL\").group(0)\n",
    "data2018[\"id\"] = data2018[\"Tm\"] + \"-\" + data2018[\"Lev\"].map(lambda x: re.search(\"(?<=\\-).+\",x).group(0))\n",
    "#dropping players that played for multiple teams\n",
    "value_counts = data2018['id'].value_counts()\n",
    "to_remove = value_counts[value_counts <3].index\n",
    "data2018 = data2018[~data2018.id.isin(to_remove)]"
   ]
  },
  {
   "cell_type": "code",
   "execution_count": 27,
   "metadata": {},
   "outputs": [
    {
     "data": {
      "text/plain": [
       "id\n",
       "Arizona-NL           929.0\n",
       "Atlanta-NL           858.2\n",
       "Baltimore-AL         915.2\n",
       "Boston-AL            982.6\n",
       "Chicago-AL          1065.4\n",
       "Chicago-NL           876.6\n",
       "Cincinnati-NL        802.9\n",
       "Cleveland-AL        1042.6\n",
       "Colorado-NL          964.6\n",
       "Detroit-AL           898.2\n",
       "Houston-AL          1085.5\n",
       "Kansas City-AL      1000.6\n",
       "Los Angeles-AL       966.2\n",
       "Los Angeles-NL      1088.9\n",
       "Miami-NL             921.1\n",
       "Milwaukee-NL         931.8\n",
       "Minnesota-AL         852.0\n",
       "New York-AL          884.1\n",
       "New York-NL         1032.2\n",
       "Oakland-AL           908.3\n",
       "Philadelphia-NL      873.8\n",
       "Pittsburgh-NL        915.6\n",
       "San Diego-NL         771.0\n",
       "San Francisco-NL     969.3\n",
       "Seattle-AL          1008.1\n",
       "St. Louis-NL         955.7\n",
       "Tampa Bay-AL         795.2\n",
       "Texas-AL             814.8\n",
       "Toronto-AL           815.1\n",
       "Washington-NL        784.9\n",
       "Name: IP, dtype: float64"
      ]
     },
     "execution_count": 27,
     "metadata": {},
     "output_type": "execute_result"
    }
   ],
   "source": [
    "#it works, just need to add in team Wins\n",
    "data2018.groupby('id')['IP'].sum()"
   ]
  },
  {
   "cell_type": "markdown",
   "metadata": {},
   "source": [
    "# 2017"
   ]
  },
  {
   "cell_type": "code",
   "execution_count": 13,
   "metadata": {},
   "outputs": [
    {
     "name": "stderr",
     "output_type": "stream",
     "text": [
      "/Users/nickrad/anaconda3/envs/PythonData/lib/python3.6/site-packages/ipykernel_launcher.py:12: SettingWithCopyWarning: \n",
      "A value is trying to be set on a copy of a slice from a DataFrame.\n",
      "Try using .loc[row_indexer,col_indexer] = value instead\n",
      "\n",
      "See the caveats in the documentation: http://pandas.pydata.org/pandas-docs/stable/indexing.html#indexing-view-versus-copy\n",
      "  if sys.path[0] == '':\n"
     ]
    }
   ],
   "source": [
    "pitching2 = pitching_stats_range('2017-04-02', '2017-10-02')\n",
    "pitching2017 = pd.DataFrame(pitching2)\n",
    "standings2017 = standings(2017)\n",
    "results2017 = pd.concat(standings2017)\n",
    "combined2017 = pitching2017.merge(results2018, on ='Tm',how = 'outer', suffixes=('_Pitcher', '_Season'))\n",
    "#trying to only look at the starting pitchers\n",
    "combined2017 = combined2017.query('GS >= 1')\n",
    "#going to select only the necessary columns\n",
    "data2017 = combined2017[['Name','Lev', 'Tm','GS','W_Season','L_Season','IP','ER','ERA','W_Pitcher','L_Pitcher']]\n",
    "#creating a unique ID\n",
    "re.search(\"(?<=\\-).+\",\"MLB-AL\").group(0)\n",
    "data2017[\"id\"] = data2017[\"Tm\"] + \"-\" + data2017[\"Lev\"].map(lambda x: re.search(\"(?<=\\-).+\",x).group(0))\n",
    "#dropping players that played for multiple teams\n",
    "value_counts = data2017['id'].value_counts()\n",
    "to_remove = value_counts[value_counts <3].index\n",
    "data2017 = data2017[~data2017.id.isin(to_remove)]"
   ]
  },
  {
   "cell_type": "code",
   "execution_count": 23,
   "metadata": {},
   "outputs": [],
   "source": [
    "data2017.groupby('id')['IP'].sum()"
   ]
  },
  {
   "cell_type": "markdown",
   "metadata": {},
   "source": [
    "# 2016"
   ]
  },
  {
   "cell_type": "code",
   "execution_count": 15,
   "metadata": {},
   "outputs": [
    {
     "name": "stderr",
     "output_type": "stream",
     "text": [
      "/Users/nickrad/anaconda3/envs/PythonData/lib/python3.6/site-packages/ipykernel_launcher.py:12: SettingWithCopyWarning: \n",
      "A value is trying to be set on a copy of a slice from a DataFrame.\n",
      "Try using .loc[row_indexer,col_indexer] = value instead\n",
      "\n",
      "See the caveats in the documentation: http://pandas.pydata.org/pandas-docs/stable/indexing.html#indexing-view-versus-copy\n",
      "  if sys.path[0] == '':\n"
     ]
    }
   ],
   "source": [
    "pitching3 = pitching_stats_range('2016-04-03', '2016-10-02')\n",
    "pitching2016 = pd.DataFrame(pitching3)\n",
    "standings2016 = standings(2016)\n",
    "results2016 = pd.concat(standings2016)\n",
    "combined2016 = pitching2016.merge(results2018, on ='Tm',how = 'outer', suffixes=('_Pitcher', '_Season'))\n",
    "#trying to only look at the starting pitchers\n",
    "combined2016 = combined2016.query('GS >= 1')\n",
    "#going to select only the necessary columns\n",
    "data2016 = combined2016[['Name','Lev', 'Tm','GS','W_Season','L_Season','IP','ER','ERA','W_Pitcher','L_Pitcher']]\n",
    "#creating a unique ID\n",
    "re.search(\"(?<=\\-).+\",\"MLB-AL\").group(0)\n",
    "data2016[\"id\"] = data2016[\"Tm\"] + \"-\" + data2016[\"Lev\"].map(lambda x: re.search(\"(?<=\\-).+\",x).group(0))\n",
    "#dropping players that played for multiple teams\n",
    "value_counts = data2016['id'].value_counts()\n",
    "to_remove = value_counts[value_counts <4].index\n",
    "data2016 = data2016[~data2016.id.isin(to_remove)]"
   ]
  },
  {
   "cell_type": "code",
   "execution_count": 28,
   "metadata": {},
   "outputs": [
    {
     "data": {
      "text/plain": [
       "id\n",
       "Arizona-NL           966.1\n",
       "Atlanta-NL           845.2\n",
       "Baltimore-AL         974.9\n",
       "Boston-AL            946.5\n",
       "Chicago-AL           831.6\n",
       "Chicago-NL          1030.8\n",
       "Cincinnati-NL        997.3\n",
       "Cleveland-AL        1038.5\n",
       "Colorado-NL         1041.9\n",
       "Detroit-AL          1018.8\n",
       "Houston-AL           997.9\n",
       "Kansas City-AL      1053.9\n",
       "Los Angeles-AL       562.9\n",
       "Los Angeles-NL       829.1\n",
       "Miami-NL             879.9\n",
       "Milwaukee-NL         918.5\n",
       "Minnesota-AL         731.5\n",
       "New York-AL          889.1\n",
       "New York-NL         1001.2\n",
       "Oakland-AL           832.9\n",
       "Philadelphia-NL      901.8\n",
       "Pittsburgh-NL        700.9\n",
       "San Diego-NL         329.6\n",
       "San Francisco-NL     956.8\n",
       "Seattle-AL           793.9\n",
       "St. Louis-NL         965.9\n",
       "Tampa Bay-AL         905.9\n",
       "Texas-AL             945.3\n",
       "Toronto-AL           936.2\n",
       "Washington-NL       1032.6\n",
       "Name: IP, dtype: float64"
      ]
     },
     "execution_count": 28,
     "metadata": {},
     "output_type": "execute_result"
    }
   ],
   "source": [
    "data2016.groupby('id')['IP'].sum()"
   ]
  },
  {
   "cell_type": "code",
   "execution_count": null,
   "metadata": {},
   "outputs": [],
   "source": []
  }
 ],
 "metadata": {
  "kernelspec": {
   "display_name": "Python 3",
   "language": "python",
   "name": "python3"
  },
  "language_info": {
   "codemirror_mode": {
    "name": "ipython",
    "version": 3
   },
   "file_extension": ".py",
   "mimetype": "text/x-python",
   "name": "python",
   "nbconvert_exporter": "python",
   "pygments_lexer": "ipython3",
   "version": "3.6.7"
  }
 },
 "nbformat": 4,
 "nbformat_minor": 2
}
